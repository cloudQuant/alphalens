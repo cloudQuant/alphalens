





from IPython.core.display import display, HTML

# Limit output to 100 lines
display(HTML("<style>.output_scroll { height: 440px; }</style>"))


%matplotlib inline
import datetime
import alphalens
import pandas as pd
import numpy as np


import warnings
warnings.filterwarnings('ignore')


ticker_sector = {
    "ACN" : 0, "ATVI" : 0, "ADBE" : 0, "AMD" : 0, "AKAM" : 0, "ADS" : 0, "GOOGL" : 0, "GOOG" : 0, 
    "APH" : 0, "ADI" : 0, "ANSS" : 0, "AAPL" : 0, "AMAT" : 0, "ADSK" : 0, "ADP" : 0, "AVGO" : 0,
    "AMG" : 1, "AFL" : 1, "ALL" : 1, "AXP" : 1, "AIG" : 1, "AMP" : 1, "AON" : 1, "AJG" : 1, "AIZ" : 1, "BAC" : 1,
    "BK" : 1, "BBT" : 1, "BRK.B" : 1, "BLK" : 1, "HRB" : 1, "BHF" : 1, "COF" : 1, "CBOE" : 1, "SCHW" : 1, "CB" : 1,
    "ABT" : 2, "ABBV" : 2, "AET" : 2, "A" : 2, "ALXN" : 2, "ALGN" : 2, "AGN" : 2, "ABC" : 2, "AMGN" : 2, "ANTM" : 2,
    "BCR" : 2, "BAX" : 2, "BDX" : 2, "BIIB" : 2, "BSX" : 2, "BMY" : 2, "CAH" : 2, "CELG" : 2, "CNC" : 2, "CERN" : 2,
    "MMM" : 3, "AYI" : 3, "ALK" : 3, "ALLE" : 3, "AAL" : 3, "AME" : 3, "AOS" : 3, "ARNC" : 3, "BA" : 3, "CHRW" : 3,
    "CAT" : 3, "CTAS" : 3, "CSX" : 3, "CMI" : 3, "DE" : 3, "DAL" : 3, "DOV" : 3, "ETN" : 3, "EMR" : 3, "EFX" : 3,
    "AES" : 4, "LNT" : 4, "AEE" : 4, "AEP" : 4, "AWK" : 4, "CNP" : 4, "CMS" : 4, "ED" : 4, "D" : 4, "DTE" : 4,
    "DUK" : 4, "EIX" : 4, "ETR" : 4, "ES" : 4, "EXC" : 4, "FE" : 4, "NEE" : 4, "NI" : 4, "NRG" : 4, "PCG" : 4,
    "ARE" : 5, "AMT" : 5, "AIV" : 5, "AVB" : 5, "BXP" : 5, "CBG" : 5, "CCI" : 5, "DLR" : 5, "DRE" : 5,
    "EQIX" : 5, "EQR" : 5, "ESS" : 5, "EXR" : 5, "FRT" : 5, "GGP" : 5, "HCP" : 5, "HST" : 5, "IRM" : 5, "KIM" : 5,
    "APD" : 6, "ALB" : 6, "AVY" : 6, "BLL" : 6, "CF" : 6, "DWDP" : 6, "EMN" : 6, "ECL" : 6, "FMC" : 6, "FCX" : 6,
    "IP" : 6, "IFF" : 6, "LYB" : 6, "MLM" : 6, "MON" : 6, "MOS" : 6, "NEM" : 6, "NUE" : 6, "PKG" : 6, "PPG" : 6,
    "T" : 7, "CTL" : 7, "VZ" : 7, 
    "MO" : 8, "ADM" : 8, "BF.B" : 8, "CPB" : 8, "CHD" : 8, "CLX" : 8, "KO" : 8, "CL" : 8, "CAG" : 8,
    "STZ" : 8, "COST" : 8, "COTY" : 8, "CVS" : 8, "DPS" : 8, "EL" : 8, "GIS" : 8, "HSY" : 8, "HRL" : 8,
    "AAP" : 9, "AMZN" : 9, "APTV" : 9, "AZO" : 9, "BBY" : 9, "BWA" : 9, "KMX" : 9, "CCL" : 9, 
    "APC" : 10, "ANDV" : 10, "APA" : 10, "BHGE" : 10, "COG" : 10, "CHK" : 10, "CVX" : 10, "XEC" : 10, "CXO" : 10,
    "COP" : 10, "DVN" : 10, "EOG" : 10, "EQT" : 10, "XOM" : 10, "HAL" : 10, "HP" : 10, "HES" : 10, "KMI" : 10
}


# import pandas_datareader.data as web
# pan = web.DataReader(list(ticker_sector.keys()), "yahoo", '2014-12-01', '2017-07-01')
import yfinance as yf
start_date = datetime.datetime(2014, 12, 1)
end_date = datetime.datetime(2017, 7, 1)
tickers = list(ticker_sector.keys())
# pan = web.DataReader(tickers, "google", datetime.datetime(2017, 1, 1),  datetime.datetime(2017, 6, 1))
pan = yf.download(tickers, start=start_date, end=end_date)





lookahead_bias_days = 5

predictive_factor = pan['Open']
predictive_factor = predictive_factor.pct_change(lookahead_bias_days)
# introduce look-ahead bias and make the factor predictive
predictive_factor = predictive_factor.shift(-lookahead_bias_days)

predictive_factor = predictive_factor.stack()
predictive_factor.index = predictive_factor.index.set_names(['date', 'asset'])


predictive_factor.head()





pricing = pan['Open'].iloc[1:]
pricing.head()





sector_names = {
    0 : "information_technology",
    1 : "financials",
    2 : "health_care",
    3 : "industrials",
    4 : "utilities", 
    5 : "real_estate", 
    6 : "materials", 
    7 : "telecommunication_services", 
    8 : "consumer_staples", 
    9 : "consumer_discretionary", 
    10 : "energy" 
}





factor_data = alphalens.utils.get_clean_factor_and_forward_returns(predictive_factor, 
                                                                   pricing, 
                                                                   quantiles=5,
                                                                   bins=None,
                                                                   groupby=ticker_sector,
                                                                   groupby_labels=sector_names)








factor_data.head()














mean_return_by_q_daily, std_err = alphalens.performance.mean_return_by_quantile(factor_data, by_date=True)


mean_return_by_q_daily.head()


mean_return_by_q, std_err_by_q = alphalens.performance.mean_return_by_quantile(factor_data, by_date=False)


mean_return_by_q.head()


alphalens.plotting.plot_quantile_returns_bar(mean_return_by_q);





alphalens.plotting.plot_quantile_returns_violin(mean_return_by_q_daily);





quant_return_spread, std_err_spread = alphalens.performance.compute_mean_returns_spread(mean_return_by_q_daily,
                                                                                        upper_quant=5,
                                                                                        lower_quant=1,
                                                                                        std_err=std_err)


alphalens.plotting.plot_mean_quantile_returns_spread_time_series(quant_return_spread, std_err_spread);





alphalens.plotting.plot_cumulative_returns_by_quantile(mean_return_by_q_daily, period='1D')





ls_factor_returns = alphalens.performance.factor_returns(factor_data)


ls_factor_returns.head()


alphalens.plotting.plot_cumulative_returns(ls_factor_returns['1D'], period='1D')





alpha_beta = alphalens.performance.factor_alpha_beta(factor_data)


alpha_beta








alphalens.tears.create_returns_tear_sheet(factor_data)








ic = alphalens.performance.factor_information_coefficient(factor_data)


ic.head()


alphalens.plotting.plot_ic_ts(ic);





alphalens.plotting.plot_ic_hist(ic);





alphalens.plotting.plot_ic_qq(ic);





mean_monthly_ic = alphalens.performance.mean_information_coefficient(factor_data, by_time='M')


mean_monthly_ic.head()


alphalens.plotting.plot_monthly_ic_heatmap(mean_monthly_ic);








alphalens.tears.create_information_tear_sheet(factor_data)





quantile_factor = factor_data['factor_quantile']
turnover_period = 1


quantile_turnover = pd.concat([alphalens.performance.quantile_turnover(quantile_factor, q, turnover_period)
                               for q in range(1, int(quantile_factor.max()) + 1)], axis=1)


quantile_turnover.head()


alphalens.plotting.plot_top_bottom_quantile_turnover(quantile_turnover, turnover_period)





factor_autocorrelation = alphalens.performance.factor_rank_autocorrelation(factor_data, turnover_period)


factor_autocorrelation.head()


alphalens.plotting.plot_factor_rank_auto_correlation(factor_autocorrelation);








alphalens.tears.create_turnover_tear_sheet(factor_data)





# 数据量比较大，谨慎开启
# alphalens.tears.create_event_returns_tear_sheet(factor_data, pricing, by_group=True)








ic_by_sector = alphalens.performance.mean_information_coefficient(factor_data, by_group=True)


ic_by_sector.head()


alphalens.plotting.plot_ic_by_group(ic_by_sector);


mean_return_quantile_sector, mean_return_quantile_sector_err = alphalens.performance.mean_return_by_quantile(factor_data, by_group=True)


mean_return_quantile_sector.head()


alphalens.plotting.plot_quantile_returns_bar(mean_return_quantile_sector, by_group=True);





alphalens.tears.create_summary_tear_sheet(factor_data)





alphalens.tears.create_full_tear_sheet(factor_data)



